{
 "cells": [
  {
   "cell_type": "markdown",
   "id": "6c45e3fb",
   "metadata": {},
   "source": [
    "# Python program to simulate a simple guessing game."
   ]
  },
  {
   "cell_type": "code",
   "execution_count": null,
   "id": "2b449896",
   "metadata": {},
   "outputs": [],
   "source": [
    "from random import randint"
   ]
  },
  {
   "cell_type": "code",
   "execution_count": 2,
   "id": "28c5c1d5",
   "metadata": {},
   "outputs": [
    {
     "name": "stdout",
     "output_type": "stream",
     "text": [
      "Guess the secret number (between 1 and 50): 4\n",
      "Try again! Your guess is too low. You have 4 attempts left.\n",
      "Guess the secret number (between 1 and 50): 5\n",
      "Try again! Your guess is too low. You have 3 attempts left.\n",
      "Guess the secret number (between 1 and 50): 66\n",
      "Try again! Your guess is too high. You have 2 attempts left.\n",
      "Guess the secret number (between 1 and 50): 20\n",
      "Try again! Your guess is too low. You have 1 attempts left.\n",
      "Guess the secret number (between 1 and 50): 23\n",
      "Try again! Your guess is too high. You have 0 attempts left.\n",
      "Game Over! The secret number was 22.\n"
     ]
    }
   ],
   "source": [
    "# Generate secret number\n",
    "secret_number = randint(1, 50)\n",
    "attempts = 5\n",
    "\n",
    "while attempts > 0:\n",
    "    try:\n",
    "        guess = int(input(\"Guess the secret number (between 1 and 50): \"))\n",
    "    except ValueError:\n",
    "        print(\"Invalid input! Please enter a valid number.\")\n",
    "        continue\n",
    "    \n",
    "    if guess == secret_number:\n",
    "        print(f\"Congratulations! You guessed the secret number {secret_number} correctly!\")\n",
    "        break\n",
    "    elif guess < secret_number:\n",
    "        print(f\"Try again! Your guess is too low. You have {attempts - 1} attempts left.\")\n",
    "    else:\n",
    "        print(f\"Try again! Your guess is too high. You have {attempts - 1} attempts left.\")\n",
    "    \n",
    "    attempts -= 1\n",
    "\n",
    "if attempts == 0:\n",
    "    print(f\"Game Over! The secret number was {secret_number}.\")\n"
   ]
  },
  {
   "cell_type": "markdown",
   "id": "ac3dfe5f",
   "metadata": {},
   "source": [
    "## Task 2:\n",
    " **a) Write a function called num_vowels that takes in a string as an argument, and returns the\n",
    "number of vowels in that string. Print out the result for the string “Learning Python is fun\n",
    "and engaging.”**"
   ]
  },
  {
   "cell_type": "code",
   "execution_count": 19,
   "id": "25ff35d1",
   "metadata": {},
   "outputs": [
    {
     "name": "stdout",
     "output_type": "stream",
     "text": [
      "Enter a sentence: A quick Brown fox Jumps over thE lAzy Dog\n",
      "\n",
      "Number of vowels in the given string: 11\n"
     ]
    }
   ],
   "source": [
    "def num_vowels(string):\n",
    "    vowels = \"aeiou\"\n",
    "    count = 0\n",
    "    for char in string:\n",
    "        if char in vowels:\n",
    "            count += 1\n",
    "    return count\n",
    "\n",
    "# Enter a sentence and it will count the vowels\n",
    "text = input(\"Enter a sentence: \").lower()\n",
    "print(\"\\nNumber of vowels in the given string:\", num_vowels(text))\n"
   ]
  },
  {
   "cell_type": "markdown",
   "id": "026c1ef3",
   "metadata": {},
   "source": [
    "**b) Create a function called hours_to_min that converts hours into minutes. The function should\n",
    "take the number of hours as input and return the equivalent number of minutes. Test the\n",
    "function with 2.5 hours and print the result.**"
   ]
  },
  {
   "cell_type": "code",
   "execution_count": 28,
   "id": "7e88a3e6",
   "metadata": {},
   "outputs": [
    {
     "name": "stdout",
     "output_type": "stream",
     "text": [
      "Enter hours: 2.5\n",
      "The minutes are: 150.0\n"
     ]
    }
   ],
   "source": [
    "def hours_to_min(hours):\n",
    "    minutes = hours * 60\n",
    "    return minutes\n",
    "hours = float(input(\"Enter hours: \"))\n",
    "print(f\"The minutes are: {hours_to_min(hours)}\")"
   ]
  },
  {
   "cell_type": "markdown",
   "id": "67509e54",
   "metadata": {},
   "source": [
    "**c) Write a python function that takes in a number as an argument, and prints out the table of\n",
    "that number up to 12 times that number. You may name this whatever you wish.**"
   ]
  },
  {
   "cell_type": "code",
   "execution_count": 53,
   "id": "9145bee3",
   "metadata": {},
   "outputs": [
    {
     "name": "stdout",
     "output_type": "stream",
     "text": [
      "Enter number: 8\n",
      " 1 X 8 = 8\n",
      " 2 X 8 = 16\n",
      " 3 X 8 = 24\n",
      " 4 X 8 = 32\n",
      " 5 X 8 = 40\n",
      " 6 X 8 = 48\n",
      " 7 X 8 = 56\n",
      " 8 X 8 = 64\n",
      " 9 X 8 = 72\n",
      " 10 X 8 = 80\n",
      " 11 X 8 = 88\n",
      " 12 X 8 = 96\n",
      "\n",
      "The above table is of '8'\n"
     ]
    }
   ],
   "source": [
    "num = int(input(\"Enter number: \"))\n",
    "for i in range(1,13):\n",
    "    print(f\" {i} X {num} = {i * num}\")\n",
    "print(f\"\\nThe above table is of '{num}'\")"
   ]
  },
  {
   "cell_type": "markdown",
   "id": "7d661de5",
   "metadata": {},
   "source": [
    "**d) In your previous assignment, you wrote code that checks if a student is eligible for admission\n",
    "to a university. Turn that code into a function called eligibility. The function should take two\n",
    "arguments: the student's age and their previous GPA. The eligibility criteria are as follows:**\n",
    "- **The student must be at least 18 years old.**\n",
    "- **The student's previous GPA must be 3.0 or higher on a scale of 4.0.**\n",
    "**The function should return True if the student meets both criteria, otherwise, return False.\n",
    "Test the function with different ages and GPAs with and without keywords for example:\n",
    "eligibility(30, 3.2) [will depend on which order you provided the positional arguments in the\n",
    "definition]\n",
    "eligibility(GPA = 2.9, age = 40)**"
   ]
  },
  {
   "cell_type": "code",
   "execution_count": 71,
   "id": "f1dc9246",
   "metadata": {},
   "outputs": [
    {
     "name": "stdout",
     "output_type": "stream",
     "text": [
      "Enter your Age: 20\n",
      "Enter you CGPA: 2.8\n",
      "False\n"
     ]
    }
   ],
   "source": [
    "age = int(input(\"Enter your Age: \"))\n",
    "GPA = float(input(\"Enter you CGPA: \"))\n",
    "def eligible(age,GPA):\n",
    "    if GPA > 4.0:\n",
    "        print(\"Invalid CGPA\")\n",
    "    elif age >=30:\n",
    "        print(\"Over Age\")\n",
    "    elif age >= 18 and GPA >= 3.0:\n",
    "        print(\"True\")\n",
    "    else:\n",
    "        print(\"False\")\n",
    "eligible(age, GPA)"
   ]
  },
  {
   "cell_type": "code",
   "execution_count": null,
   "id": "c67c3b62",
   "metadata": {},
   "outputs": [],
   "source": []
  }
 ],
 "metadata": {
  "kernelspec": {
   "display_name": "Python 3 (ipykernel)",
   "language": "python",
   "name": "python3"
  },
  "language_info": {
   "codemirror_mode": {
    "name": "ipython",
    "version": 3
   },
   "file_extension": ".py",
   "mimetype": "text/x-python",
   "name": "python",
   "nbconvert_exporter": "python",
   "pygments_lexer": "ipython3",
   "version": "3.11.5"
  }
 },
 "nbformat": 4,
 "nbformat_minor": 5
}
